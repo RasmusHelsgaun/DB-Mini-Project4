{
 "cells": [
  {
   "cell_type": "code",
   "execution_count": 1,
   "metadata": {},
   "outputs": [],
   "source": [
    "import pandas as pd\n",
    "from neo4j import GraphDatabase\n",
    "import pymongo"
   ]
  },
  {
   "cell_type": "code",
   "execution_count": 2,
   "metadata": {},
   "outputs": [],
   "source": [
    "movies = pd.read_csv(\"./imdb/movies.csv\")[:5000]"
   ]
  },
  {
   "cell_type": "code",
   "execution_count": 3,
   "metadata": {},
   "outputs": [
    {
     "data": {
      "text/html": [
       "<div>\n",
       "<style scoped>\n",
       "    .dataframe tbody tr th:only-of-type {\n",
       "        vertical-align: middle;\n",
       "    }\n",
       "\n",
       "    .dataframe tbody tr th {\n",
       "        vertical-align: top;\n",
       "    }\n",
       "\n",
       "    .dataframe thead th {\n",
       "        text-align: right;\n",
       "    }\n",
       "</style>\n",
       "<table border=\"1\" class=\"dataframe\">\n",
       "  <thead>\n",
       "    <tr style=\"text-align: right;\">\n",
       "      <th></th>\n",
       "      <th>imdb_title_id</th>\n",
       "      <th>title</th>\n",
       "      <th>original_title</th>\n",
       "      <th>year</th>\n",
       "      <th>date_published</th>\n",
       "      <th>genre</th>\n",
       "      <th>duration</th>\n",
       "      <th>country</th>\n",
       "      <th>language</th>\n",
       "      <th>director</th>\n",
       "      <th>...</th>\n",
       "      <th>actors</th>\n",
       "      <th>description</th>\n",
       "      <th>avg_vote</th>\n",
       "      <th>votes</th>\n",
       "      <th>budget</th>\n",
       "      <th>usa_gross_income</th>\n",
       "      <th>worlwide_gross_income</th>\n",
       "      <th>metascore</th>\n",
       "      <th>reviews_from_users</th>\n",
       "      <th>reviews_from_critics</th>\n",
       "    </tr>\n",
       "  </thead>\n",
       "  <tbody>\n",
       "    <tr>\n",
       "      <th>0</th>\n",
       "      <td>tt0000574</td>\n",
       "      <td>The Story of the Kelly Gang</td>\n",
       "      <td>The Story of the Kelly Gang</td>\n",
       "      <td>1906</td>\n",
       "      <td>1906-12-26</td>\n",
       "      <td>Biography, Crime, Drama</td>\n",
       "      <td>70</td>\n",
       "      <td>Australia</td>\n",
       "      <td>NaN</td>\n",
       "      <td>Charles Tait</td>\n",
       "      <td>...</td>\n",
       "      <td>Elizabeth Tait, John Tait, Norman Campbell, Be...</td>\n",
       "      <td>True story of notorious Australian outlaw Ned ...</td>\n",
       "      <td>6.1</td>\n",
       "      <td>537</td>\n",
       "      <td>$ 2250</td>\n",
       "      <td>NaN</td>\n",
       "      <td>NaN</td>\n",
       "      <td>NaN</td>\n",
       "      <td>7.0</td>\n",
       "      <td>7.0</td>\n",
       "    </tr>\n",
       "    <tr>\n",
       "      <th>1</th>\n",
       "      <td>tt0001892</td>\n",
       "      <td>Den sorte drøm</td>\n",
       "      <td>Den sorte drøm</td>\n",
       "      <td>1911</td>\n",
       "      <td>1911-08-19</td>\n",
       "      <td>Drama</td>\n",
       "      <td>53</td>\n",
       "      <td>Germany, Denmark</td>\n",
       "      <td>NaN</td>\n",
       "      <td>Urban Gad</td>\n",
       "      <td>...</td>\n",
       "      <td>Asta Nielsen, Valdemar Psilander, Gunnar Helse...</td>\n",
       "      <td>Two men of high rank are both wooing the beaut...</td>\n",
       "      <td>5.9</td>\n",
       "      <td>171</td>\n",
       "      <td>NaN</td>\n",
       "      <td>NaN</td>\n",
       "      <td>NaN</td>\n",
       "      <td>NaN</td>\n",
       "      <td>4.0</td>\n",
       "      <td>2.0</td>\n",
       "    </tr>\n",
       "    <tr>\n",
       "      <th>2</th>\n",
       "      <td>tt0002101</td>\n",
       "      <td>Cleopatra</td>\n",
       "      <td>Cleopatra</td>\n",
       "      <td>1912</td>\n",
       "      <td>1912-11-13</td>\n",
       "      <td>Drama, History</td>\n",
       "      <td>100</td>\n",
       "      <td>USA</td>\n",
       "      <td>English</td>\n",
       "      <td>Charles L. Gaskill</td>\n",
       "      <td>...</td>\n",
       "      <td>Helen Gardner, Pearl Sindelar, Miss Fielding, ...</td>\n",
       "      <td>The fabled queen of Egypt's affair with Roman ...</td>\n",
       "      <td>5.2</td>\n",
       "      <td>420</td>\n",
       "      <td>$ 45000</td>\n",
       "      <td>NaN</td>\n",
       "      <td>NaN</td>\n",
       "      <td>NaN</td>\n",
       "      <td>24.0</td>\n",
       "      <td>3.0</td>\n",
       "    </tr>\n",
       "    <tr>\n",
       "      <th>3</th>\n",
       "      <td>tt0002130</td>\n",
       "      <td>L'Inferno</td>\n",
       "      <td>L'Inferno</td>\n",
       "      <td>1911</td>\n",
       "      <td>1911-03-06</td>\n",
       "      <td>Adventure, Drama, Fantasy</td>\n",
       "      <td>68</td>\n",
       "      <td>Italy</td>\n",
       "      <td>Italian</td>\n",
       "      <td>Francesco Bertolini, Adolfo Padovan</td>\n",
       "      <td>...</td>\n",
       "      <td>Salvatore Papa, Arturo Pirovano, Giuseppe de L...</td>\n",
       "      <td>Loosely adapted from Dante's Divine Comedy and...</td>\n",
       "      <td>7.0</td>\n",
       "      <td>2019</td>\n",
       "      <td>NaN</td>\n",
       "      <td>NaN</td>\n",
       "      <td>NaN</td>\n",
       "      <td>NaN</td>\n",
       "      <td>28.0</td>\n",
       "      <td>14.0</td>\n",
       "    </tr>\n",
       "    <tr>\n",
       "      <th>4</th>\n",
       "      <td>tt0002199</td>\n",
       "      <td>From the Manger to the Cross; or, Jesus of Naz...</td>\n",
       "      <td>From the Manger to the Cross; or, Jesus of Naz...</td>\n",
       "      <td>1912</td>\n",
       "      <td>1913</td>\n",
       "      <td>Biography, Drama</td>\n",
       "      <td>60</td>\n",
       "      <td>USA</td>\n",
       "      <td>English</td>\n",
       "      <td>Sidney Olcott</td>\n",
       "      <td>...</td>\n",
       "      <td>R. Henderson Bland, Percy Dyer, Gene Gauntier,...</td>\n",
       "      <td>An account of the life of Jesus Christ, based ...</td>\n",
       "      <td>5.7</td>\n",
       "      <td>438</td>\n",
       "      <td>NaN</td>\n",
       "      <td>NaN</td>\n",
       "      <td>NaN</td>\n",
       "      <td>NaN</td>\n",
       "      <td>12.0</td>\n",
       "      <td>5.0</td>\n",
       "    </tr>\n",
       "  </tbody>\n",
       "</table>\n",
       "<p>5 rows × 22 columns</p>\n",
       "</div>"
      ],
      "text/plain": [
       "  imdb_title_id                                              title  \\\n",
       "0     tt0000574                        The Story of the Kelly Gang   \n",
       "1     tt0001892                                     Den sorte drøm   \n",
       "2     tt0002101                                          Cleopatra   \n",
       "3     tt0002130                                          L'Inferno   \n",
       "4     tt0002199  From the Manger to the Cross; or, Jesus of Naz...   \n",
       "\n",
       "                                      original_title  year date_published  \\\n",
       "0                        The Story of the Kelly Gang  1906     1906-12-26   \n",
       "1                                     Den sorte drøm  1911     1911-08-19   \n",
       "2                                          Cleopatra  1912     1912-11-13   \n",
       "3                                          L'Inferno  1911     1911-03-06   \n",
       "4  From the Manger to the Cross; or, Jesus of Naz...  1912           1913   \n",
       "\n",
       "                       genre  duration           country language  \\\n",
       "0    Biography, Crime, Drama        70         Australia      NaN   \n",
       "1                      Drama        53  Germany, Denmark      NaN   \n",
       "2             Drama, History       100               USA  English   \n",
       "3  Adventure, Drama, Fantasy        68             Italy  Italian   \n",
       "4           Biography, Drama        60               USA  English   \n",
       "\n",
       "                              director  ...  \\\n",
       "0                         Charles Tait  ...   \n",
       "1                            Urban Gad  ...   \n",
       "2                   Charles L. Gaskill  ...   \n",
       "3  Francesco Bertolini, Adolfo Padovan  ...   \n",
       "4                        Sidney Olcott  ...   \n",
       "\n",
       "                                              actors  \\\n",
       "0  Elizabeth Tait, John Tait, Norman Campbell, Be...   \n",
       "1  Asta Nielsen, Valdemar Psilander, Gunnar Helse...   \n",
       "2  Helen Gardner, Pearl Sindelar, Miss Fielding, ...   \n",
       "3  Salvatore Papa, Arturo Pirovano, Giuseppe de L...   \n",
       "4  R. Henderson Bland, Percy Dyer, Gene Gauntier,...   \n",
       "\n",
       "                                         description avg_vote votes   budget  \\\n",
       "0  True story of notorious Australian outlaw Ned ...      6.1   537   $ 2250   \n",
       "1  Two men of high rank are both wooing the beaut...      5.9   171      NaN   \n",
       "2  The fabled queen of Egypt's affair with Roman ...      5.2   420  $ 45000   \n",
       "3  Loosely adapted from Dante's Divine Comedy and...      7.0  2019      NaN   \n",
       "4  An account of the life of Jesus Christ, based ...      5.7   438      NaN   \n",
       "\n",
       "   usa_gross_income worlwide_gross_income metascore reviews_from_users  \\\n",
       "0               NaN                   NaN       NaN                7.0   \n",
       "1               NaN                   NaN       NaN                4.0   \n",
       "2               NaN                   NaN       NaN               24.0   \n",
       "3               NaN                   NaN       NaN               28.0   \n",
       "4               NaN                   NaN       NaN               12.0   \n",
       "\n",
       "   reviews_from_critics  \n",
       "0                   7.0  \n",
       "1                   2.0  \n",
       "2                   3.0  \n",
       "3                  14.0  \n",
       "4                   5.0  \n",
       "\n",
       "[5 rows x 22 columns]"
      ]
     },
     "execution_count": 3,
     "metadata": {},
     "output_type": "execute_result"
    }
   ],
   "source": [
    "movies.head()"
   ]
  },
  {
   "cell_type": "code",
   "execution_count": 4,
   "metadata": {},
   "outputs": [],
   "source": [
    "uri = \"bolt://localhost:11003\"\n",
    "user = \"neo4j\"\n",
    "password = \"movies\"\n",
    "driver = GraphDatabase.driver(uri, auth=(user, password), encrypted=False)"
   ]
  },
  {
   "cell_type": "code",
   "execution_count": 5,
   "metadata": {},
   "outputs": [],
   "source": [
    "session = driver.session()"
   ]
  },
  {
   "cell_type": "code",
   "execution_count": 6,
   "metadata": {},
   "outputs": [],
   "source": [
    "def test_trans(tx, title):\n",
    "    tx.run(\n",
    "        'CREATE(m:Movie { title:$title }) RETURN m', title=title\n",
    "    )"
   ]
  },
  {
   "cell_type": "markdown",
   "metadata": {},
   "source": [
    "session.write_transaction(lambda tx: tx.run(\"MATCH (n) DETACH DELETE n\"))"
   ]
  },
  {
   "cell_type": "markdown",
   "metadata": {},
   "source": [
    "for k,v in movies.iterrows():\n",
    "    id = v.imdb_title_id\n",
    "    title = v.title\n",
    "    year = v.year\n",
    "    original_title = v.original_title\n",
    "    date_published = v.date_published\n",
    "    genre = v.genre\n",
    "    try:\n",
    "        actor_names = v.actors.split(\",\")\n",
    "    except:\n",
    "        actor_names = []\n",
    "        \n",
    "    result = session.run(\"CREATE(m:Movie { title:$title, year:$year, original_title:$original_title , date_published:$date_published, genre:$genre }) RETURN m\",\n",
    "                        title=title, year=year, original_title=original_title, date_published=date_published, genre=genre)\n",
    "    result = result.single()[0]\n",
    "    \n",
    "    for actor_name in actor_names:\n",
    "        actor_name = actor_name.strip()\n",
    "        match = session.run(\"match (a) WHERE a.name=$name return a\",name=actor_name)\n",
    "        if match.peek() == None:\n",
    "            match = session.write_transaction(lambda tx, name: tx.run(\"CREATE(a:Name { name:$name } )RETURN a\", name=name), actor_name)\n",
    "        \n",
    "        match = match.single()[0]\n",
    "        result1 = session.run(\"\"\"\n",
    "            MATCH (name: Name{ name:$name })\n",
    "            MATCH (movie: Movie{ title: $title })\n",
    "            CREATE (movie)-[r1:FEATURES]->(name)\n",
    "        \"\"\", name=actor_name, title=title)\n",
    "        \n",
    "   "
   ]
  },
  {
   "cell_type": "code",
   "execution_count": 7,
   "metadata": {},
   "outputs": [
    {
     "name": "stdout",
     "output_type": "stream",
     "text": [
      "6.52 ms ± 1.01 ms per loop (mean ± std. dev. of 7 runs, 1 loop each)\n"
     ]
    }
   ],
   "source": [
    "%%timeit\n",
    "session.run(\"\"\"\n",
    "MATCH (a)-[:FEATURES]->(m)\n",
    "RETURN m, COLLECT(a) as actor\n",
    "ORDER BY SIZE(actor) DESC LIMIT 10\n",
    "\"\"\")"
   ]
  },
  {
   "cell_type": "code",
   "execution_count": 8,
   "metadata": {},
   "outputs": [],
   "source": [
    "myclient = pymongo.MongoClient(\"mongodb://localhost:27017/\")"
   ]
  },
  {
   "cell_type": "code",
   "execution_count": 9,
   "metadata": {},
   "outputs": [],
   "source": [
    "imdb = myclient[\"imdb\"]"
   ]
  },
  {
   "cell_type": "code",
   "execution_count": 10,
   "metadata": {},
   "outputs": [],
   "source": [
    "movie = imdb[\"movie\"]\n",
    "name = imdb[\"name\"]"
   ]
  },
  {
   "cell_type": "code",
   "execution_count": 211,
   "metadata": {},
   "outputs": [],
   "source": [
    "for k,v in movies.iterrows():\n",
    "    id = v.imdb_title_id\n",
    "    title = v.title\n",
    "    year = v.year\n",
    "    original_title = v.original_title\n",
    "    date_published = v.date_published\n",
    "    genre = v.genre\n",
    "    try:\n",
    "        actor_names = v.actors.split(\",\")\n",
    "        actor_names = list(map(lambda an: an.strip(), actor_names))\n",
    "    except:\n",
    "        actor_names = []\n",
    "    \n",
    "    actor_docs = []\n",
    "    \n",
    "    for actor in actor_names:\n",
    "        search = name.find_one({\"name\": actor})\n",
    "        if search == None:\n",
    "            res = name.insert_one({\n",
    "                \"name\": actor\n",
    "            })\n",
    "            \n",
    "            actor_id = res.inserted_id\n",
    "            \n",
    "        else:\n",
    "            actor_id = search[\"_id\"]\n",
    "\n",
    "        actor_docs.append(actor_id)\n",
    "    \n",
    "    movie.insert_one({\n",
    "        \"id\":id,\n",
    "        \"title\":title,\n",
    "        \"year\": year,\n",
    "        \"original_title\": original_title,\n",
    "        \"date_published\": date_published,\n",
    "        \"genre\": genre,\n",
    "        \"actors\": actor_docs\n",
    "    })\n",
    "    \n",
    "    for actor_name in actor_names:\n",
    "        actor_name = actor_name.strip()"
   ]
  },
  {
   "cell_type": "code",
   "execution_count": 223,
   "metadata": {},
   "outputs": [],
   "source": [
    "res = movie.aggregate([\n",
    "    { \"$unwind\": \"$actors\" },\n",
    "    { \"$group\": {\n",
    "        \"_id\": \"$actors\",\n",
    "        \"total\": {\"$sum\" : 1}\n",
    "    }},\n",
    "    { \"$sort\": { \"total\": -1 } },\n",
    "    { \"$limit\": 1 }\n",
    "    \n",
    "\n",
    "])"
   ]
  },
  {
   "cell_type": "code",
   "execution_count": 224,
   "metadata": {},
   "outputs": [
    {
     "data": {
      "text/plain": [
       "{'_id': ObjectId('5eb924b085db9e993f4c92ba'), 'total': 118}"
      ]
     },
     "execution_count": 224,
     "metadata": {},
     "output_type": "execute_result"
    }
   ],
   "source": [
    "next(res)"
   ]
  },
  {
   "cell_type": "code",
   "execution_count": 134,
   "metadata": {},
   "outputs": [
    {
     "ename": "AttributeError",
     "evalue": "'dict' object has no attribute 'total'",
     "output_type": "error",
     "traceback": [
      "\u001b[0;31m---------------------------------------------------------------------------\u001b[0m",
      "\u001b[0;31mAttributeError\u001b[0m                            Traceback (most recent call last)",
      "\u001b[0;32m<ipython-input-134-bef68b584365>\u001b[0m in \u001b[0;36m<module>\u001b[0;34m\u001b[0m\n\u001b[1;32m      1\u001b[0m \u001b[0;32mfor\u001b[0m \u001b[0mx\u001b[0m \u001b[0;32min\u001b[0m \u001b[0mres\u001b[0m\u001b[0;34m:\u001b[0m\u001b[0;34m\u001b[0m\u001b[0;34m\u001b[0m\u001b[0m\n\u001b[0;32m----> 2\u001b[0;31m     \u001b[0;32mif\u001b[0m \u001b[0mx\u001b[0m\u001b[0;34m.\u001b[0m\u001b[0mtotal\u001b[0m \u001b[0;34m!=\u001b[0m \u001b[0;36m1\u001b[0m\u001b[0;34m:\u001b[0m\u001b[0;34m\u001b[0m\u001b[0;34m\u001b[0m\u001b[0m\n\u001b[0m\u001b[1;32m      3\u001b[0m         \u001b[0mprint\u001b[0m\u001b[0;34m(\u001b[0m\u001b[0mx\u001b[0m\u001b[0;34m)\u001b[0m\u001b[0;34m\u001b[0m\u001b[0;34m\u001b[0m\u001b[0m\n",
      "\u001b[0;31mAttributeError\u001b[0m: 'dict' object has no attribute 'total'"
     ]
    }
   ],
   "source": [
    "for x in res:\n",
    "    if x.total != 1:\n",
    "        print(x)"
   ]
  },
  {
   "cell_type": "code",
   "execution_count": 207,
   "metadata": {},
   "outputs": [],
   "source": [
    "for x in res:\n",
    "    if str(x.get(\"actors\")) == \"5eb90d0385db9e993f4c308a\":\n",
    "        print(\"hello\")"
   ]
  },
  {
   "cell_type": "code",
   "execution_count": 221,
   "metadata": {},
   "outputs": [],
   "source": [
    "for x in res:\n",
    "    print(x)"
   ]
  },
  {
   "cell_type": "code",
   "execution_count": null,
   "metadata": {},
   "outputs": [],
   "source": []
  }
 ],
 "metadata": {
  "kernelspec": {
   "display_name": "Python 3",
   "language": "python",
   "name": "python3"
  },
  "language_info": {
   "codemirror_mode": {
    "name": "ipython",
    "version": 3
   },
   "file_extension": ".py",
   "mimetype": "text/x-python",
   "name": "python",
   "nbconvert_exporter": "python",
   "pygments_lexer": "ipython3",
   "version": "3.7.4"
  }
 },
 "nbformat": 4,
 "nbformat_minor": 2
}
